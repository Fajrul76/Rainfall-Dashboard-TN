{
 "cells": [
  {
   "cell_type": "code",
   "execution_count": 1,
   "id": "2c460bda-fa48-4e8c-b4cb-99a36e4ab212",
   "metadata": {},
   "outputs": [
    {
     "name": "stdout",
     "output_type": "stream",
     "text": [
      "Defaulting to user installation because normal site-packages is not writeable\n",
      "Requirement already satisfied: requests in c:\\anaconda3\\lib\\site-packages (2.32.2)\n",
      "Requirement already satisfied: pandas in c:\\anaconda3\\lib\\site-packages (2.2.2)\n",
      "Requirement already satisfied: charset-normalizer<4,>=2 in c:\\anaconda3\\lib\\site-packages (from requests) (2.0.4)\n",
      "Requirement already satisfied: idna<4,>=2.5 in c:\\anaconda3\\lib\\site-packages (from requests) (3.7)\n",
      "Requirement already satisfied: urllib3<3,>=1.21.1 in c:\\anaconda3\\lib\\site-packages (from requests) (2.2.2)\n",
      "Requirement already satisfied: certifi>=2017.4.17 in c:\\anaconda3\\lib\\site-packages (from requests) (2024.6.2)\n",
      "Requirement already satisfied: numpy>=1.26.0 in c:\\anaconda3\\lib\\site-packages (from pandas) (1.26.4)\n",
      "Requirement already satisfied: python-dateutil>=2.8.2 in c:\\anaconda3\\lib\\site-packages (from pandas) (2.9.0.post0)\n",
      "Requirement already satisfied: pytz>=2020.1 in c:\\anaconda3\\lib\\site-packages (from pandas) (2024.1)\n",
      "Requirement already satisfied: tzdata>=2022.7 in c:\\anaconda3\\lib\\site-packages (from pandas) (2023.3)\n",
      "Requirement already satisfied: six>=1.5 in c:\\anaconda3\\lib\\site-packages (from python-dateutil>=2.8.2->pandas) (1.16.0)\n",
      "Note: you may need to restart the kernel to use updated packages.\n"
     ]
    }
   ],
   "source": [
    "pip install requests pandas"
   ]
  },
  {
   "cell_type": "code",
   "execution_count": 2,
   "id": "6f8eeaa2-6339-478e-9581-25e673020c1d",
   "metadata": {},
   "outputs": [],
   "source": [
    "import requests\n",
    "import pandas as pd\n",
    "\n",
    "api_key = \"ee898070535344839cf70603250907\"  # Replace with your key from the WeatherAPI dashboard"
   ]
  },
  {
   "cell_type": "code",
   "execution_count": 4,
   "id": "2f5cb45f-a745-4fe3-a07e-e94ab0d96b39",
   "metadata": {},
   "outputs": [
    {
     "name": "stdout",
     "output_type": "stream",
     "text": [
      "Live Rainfall in Chennai: 0.0 mm\n"
     ]
    }
   ],
   "source": [
    "import requests\n",
    "\n",
    "api_key = \"ee898070535344839cf70603250907\"\n",
    "location = \"Chennai\"\n",
    "\n",
    "url = f\"https://api.weatherapi.com/v1/current.json?key={api_key}&q={location}\"\n",
    "\n",
    "response = requests.get(url)\n",
    "data = response.json()\n",
    "\n",
    "rainfall_mm = data['current']['precip_mm']\n",
    "print(f\"Live Rainfall in {location}: {rainfall_mm} mm\")"
   ]
  },
  {
   "cell_type": "code",
   "execution_count": 5,
   "id": "0e8aaa06-bb7f-41fb-b79b-3b736a85fb9f",
   "metadata": {},
   "outputs": [
    {
     "name": "stdout",
     "output_type": "stream",
     "text": [
      "2025-07-09 → Forecasted Rainfall: 0.45 mm\n",
      "2025-07-10 → Forecasted Rainfall: 0.07 mm\n",
      "2025-07-11 → Forecasted Rainfall: 0.0 mm\n",
      "2025-07-12 → Forecasted Rainfall: 0.01 mm\n",
      "2025-07-13 → Forecasted Rainfall: 0.42 mm\n"
     ]
    }
   ],
   "source": [
    "url = f\"https://api.weatherapi.com/v1/forecast.json?key={api_key}&q=Chennai&days=5\"\n",
    "response = requests.get(url)\n",
    "data = response.json()\n",
    "\n",
    "for day in data['forecast']['forecastday']:\n",
    "    print(f\"{day['date']} → Forecasted Rainfall: {day['day']['totalprecip_mm']} mm\")"
   ]
  },
  {
   "cell_type": "code",
   "execution_count": 6,
   "id": "440b05bf-f2b0-4a7c-bb7e-6b8a7ee731e2",
   "metadata": {},
   "outputs": [],
   "source": [
    "forecast_data = []\n",
    "\n",
    "for day in data['forecast']['forecastday']:\n",
    "    forecast_data.append({\n",
    "        \"date\": day['date'],\n",
    "        \"forecasted_rainfall_mm\": day['day']['totalprecip_mm']\n",
    "    })\n",
    "\n",
    "df = pd.DataFrame(forecast_data)\n",
    "df.to_csv(\"chennai_rainfall_forecast.csv\", index=False)"
   ]
  },
  {
   "cell_type": "code",
   "execution_count": 13,
   "id": "d1847fa9-2c9e-453f-ab74-a804939d205c",
   "metadata": {},
   "outputs": [
    {
     "ename": "KeyError",
     "evalue": "'forecast'",
     "output_type": "error",
     "traceback": [
      "\u001b[1;31m---------------------------------------------------------------------------\u001b[0m",
      "\u001b[1;31mKeyError\u001b[0m                                  Traceback (most recent call last)",
      "Cell \u001b[1;32mIn[13], line 10\u001b[0m\n\u001b[0;32m      7\u001b[0m     r \u001b[38;5;241m=\u001b[39m requests\u001b[38;5;241m.\u001b[39mget(url)\n\u001b[0;32m      8\u001b[0m     data \u001b[38;5;241m=\u001b[39m r\u001b[38;5;241m.\u001b[39mjson()\n\u001b[1;32m---> 10\u001b[0m     \u001b[38;5;28;01mfor\u001b[39;00m day \u001b[38;5;129;01min\u001b[39;00m data[\u001b[38;5;124m'\u001b[39m\u001b[38;5;124mforecast\u001b[39m\u001b[38;5;124m'\u001b[39m][\u001b[38;5;124m'\u001b[39m\u001b[38;5;124mforecastday\u001b[39m\u001b[38;5;124m'\u001b[39m]:\n\u001b[0;32m     11\u001b[0m         all_forecasts\u001b[38;5;241m.\u001b[39mappend({\n\u001b[0;32m     12\u001b[0m             \u001b[38;5;124m\"\u001b[39m\u001b[38;5;124mlocation\u001b[39m\u001b[38;5;124m\"\u001b[39m: loc,\n\u001b[0;32m     13\u001b[0m             \u001b[38;5;124m\"\u001b[39m\u001b[38;5;124mdate\u001b[39m\u001b[38;5;124m\"\u001b[39m: day[\u001b[38;5;124m'\u001b[39m\u001b[38;5;124mdate\u001b[39m\u001b[38;5;124m'\u001b[39m],\n\u001b[0;32m     14\u001b[0m             \u001b[38;5;124m\"\u001b[39m\u001b[38;5;124mforecasted_rainfall_mm\u001b[39m\u001b[38;5;124m\"\u001b[39m: day[\u001b[38;5;124m'\u001b[39m\u001b[38;5;124mday\u001b[39m\u001b[38;5;124m'\u001b[39m][\u001b[38;5;124m'\u001b[39m\u001b[38;5;124mtotalprecip_mm\u001b[39m\u001b[38;5;124m'\u001b[39m]\n\u001b[0;32m     15\u001b[0m         })\n\u001b[0;32m     17\u001b[0m df_multi \u001b[38;5;241m=\u001b[39m pd\u001b[38;5;241m.\u001b[39mDataFrame(all_forecasts)\n",
      "\u001b[1;31mKeyError\u001b[0m: 'forecast'"
     ]
    }
   ],
   "source": [
    "locations = [\"Chennai\", \"puduchery\", \"Chengalpattu\"]\n",
    "\n",
    "all_forecasts = []\n",
    "\n",
    "for loc in locations:\n",
    "    url = f\"https://api.weatherapi.com/v1/forecast.json?key={api_key}&q={loc}&days=5\"\n",
    "    r = requests.get(url)\n",
    "    data = r.json()\n",
    "    \n",
    "    for day in data['forecast']['forecastday']:\n",
    "        all_forecasts.append({\n",
    "            \"location\": loc,\n",
    "            \"date\": day['date'],\n",
    "            \"forecasted_rainfall_mm\": day['day']['totalprecip_mm']\n",
    "        })\n",
    "\n",
    "df_multi = pd.DataFrame(all_forecasts)\n",
    "df_multi.to_csv(\"rainfall_forecast_multi_city.csv\", index=False)"
   ]
  },
  {
   "cell_type": "code",
   "execution_count": 8,
   "id": "073ca209-553d-4aa6-be03-90fe18bf8915",
   "metadata": {},
   "outputs": [],
   "source": [
    "df_multi.to_csv(\"rainfall_forecast_multi_city.csv\", index=False)"
   ]
  },
  {
   "cell_type": "code",
   "execution_count": 9,
   "id": "9f2e1c41-8749-4bb3-aaaf-595e469e013a",
   "metadata": {},
   "outputs": [
    {
     "name": "stdout",
     "output_type": "stream",
     "text": [
      "C:\\Users\\Shariqa\\rainfall\n"
     ]
    }
   ],
   "source": [
    "import os\n",
    "print(os.getcwd())"
   ]
  },
  {
   "cell_type": "code",
   "execution_count": 11,
   "id": "6a6678a3-aaed-4c4d-bdd7-6bf4a2327ba1",
   "metadata": {},
   "outputs": [],
   "source": [
    "df_multi.to_csv(\"C:/Users/Shariqa/Documents/rainfall_forecast_multi_city.csv\", index=False)"
   ]
  },
  {
   "cell_type": "code",
   "execution_count": 21,
   "id": "22522eba-6fbc-42b4-902b-504601a0f4e5",
   "metadata": {},
   "outputs": [],
   "source": [
    "locations = [\"Chengalpattu\", \"Chennai\", \"Puducherry\", \"Kancheepuram\"]"
   ]
  },
  {
   "cell_type": "code",
   "execution_count": 15,
   "id": "77fa6dac-70dd-434f-9f41-d1b32e18519c",
   "metadata": {},
   "outputs": [],
   "source": [
    "import requests\n",
    "import pandas as pd\n",
    "\n",
    "api_key = \"ee898070535344839cf70603250907\"\n",
    "all_forecasts = []\n",
    "\n",
    "for loc in locations:\n",
    "    url = f\"https://api.weatherapi.com/v1/forecast.json?key={api_key}&q={loc}&days=5\"\n",
    "    r = requests.get(url)\n",
    "    data = r.json()\n",
    "    \n",
    "    for day in data['forecast']['forecastday']:\n",
    "        all_forecasts.append({\n",
    "            \"location\": loc,\n",
    "            \"date\": day['date'],\n",
    "            \"forecasted_rainfall_mm\": day['day']['totalprecip_mm']\n",
    "        })\n",
    "\n",
    "df = pd.DataFrame(all_forecasts)\n",
    "df.to_csv(\"forecast_selected_tamil_locations.csv\", index=False)"
   ]
  },
  {
   "cell_type": "code",
   "execution_count": 17,
   "id": "5edcedd2-5496-4219-a060-a5bf816f16ff",
   "metadata": {},
   "outputs": [],
   "source": [
    "df_multi.to_csv(\"C:/Users/Shariqa/Documents/forecast_selected_tamil_locations.csv\", index=False)"
   ]
  },
  {
   "cell_type": "code",
   "execution_count": 22,
   "id": "a2df6e7a-24da-4a60-91ad-3e97ef133b88",
   "metadata": {},
   "outputs": [
    {
     "ename": "KeyError",
     "evalue": "'forecast'",
     "output_type": "error",
     "traceback": [
      "\u001b[1;31m---------------------------------------------------------------------------\u001b[0m",
      "\u001b[1;31mKeyError\u001b[0m                                  Traceback (most recent call last)",
      "Cell \u001b[1;32mIn[22], line 16\u001b[0m\n\u001b[0;32m     14\u001b[0m r \u001b[38;5;241m=\u001b[39m requests\u001b[38;5;241m.\u001b[39mget(url)\n\u001b[0;32m     15\u001b[0m info \u001b[38;5;241m=\u001b[39m r\u001b[38;5;241m.\u001b[39mjson()\n\u001b[1;32m---> 16\u001b[0m precip \u001b[38;5;241m=\u001b[39m info[\u001b[38;5;124m'\u001b[39m\u001b[38;5;124mforecast\u001b[39m\u001b[38;5;124m'\u001b[39m][\u001b[38;5;124m'\u001b[39m\u001b[38;5;124mforecastday\u001b[39m\u001b[38;5;124m'\u001b[39m][\u001b[38;5;241m0\u001b[39m][\u001b[38;5;124m'\u001b[39m\u001b[38;5;124mday\u001b[39m\u001b[38;5;124m'\u001b[39m][\u001b[38;5;124m'\u001b[39m\u001b[38;5;124mtotalprecip_mm\u001b[39m\u001b[38;5;124m'\u001b[39m]\n\u001b[0;32m     18\u001b[0m rainfall_data\u001b[38;5;241m.\u001b[39mappend({\u001b[38;5;124m\"\u001b[39m\u001b[38;5;124mlocation\u001b[39m\u001b[38;5;124m\"\u001b[39m: location, \u001b[38;5;124m\"\u001b[39m\u001b[38;5;124mdate\u001b[39m\u001b[38;5;124m\"\u001b[39m: date_str, \u001b[38;5;124m\"\u001b[39m\u001b[38;5;124mrainfall_mm\u001b[39m\u001b[38;5;124m\"\u001b[39m: precip})\n",
      "\u001b[1;31mKeyError\u001b[0m: 'forecast'"
     ]
    }
   ],
   "source": [
    "from datetime import datetime, timedelta\n",
    "import requests\n",
    "import pandas as pd\n",
    "\n",
    "api_key = \"ee898070535344839cf70603250907\"\n",
    "location = \"Chengalpattu\"  # Change this dynamically for other cities\n",
    "\n",
    "start_date = datetime.today() - timedelta(days=10)\n",
    "rainfall_data = []\n",
    "\n",
    "for i in range(10):\n",
    "    date_str = (start_date + timedelta(days=i)).strftime(\"%Y-%m-%d\")\n",
    "    url = f\"https://api.weatherapi.com/v1/history.json?key={api_key}&q={location}&dt={date_str}\"\n",
    "    r = requests.get(url)\n",
    "    info = r.json()\n",
    "    precip = info['forecast']['forecastday'][0]['day']['totalprecip_mm']\n",
    "    \n",
    "    rainfall_data.append({\"location\": location, \"date\": date_str, \"rainfall_mm\": precip})"
   ]
  },
  {
   "cell_type": "code",
   "execution_count": 23,
   "id": "bb5d6356-bdb2-4eba-9dc5-01062b28fc44",
   "metadata": {},
   "outputs": [],
   "source": [
    "locations = [\"Chengalpattu\", \"Chennai\", \"Puducherry\", \"Kancheepuram\"]"
   ]
  },
  {
   "cell_type": "code",
   "execution_count": 24,
   "id": "46c245ac-7bb3-422c-a3ef-df484326c207",
   "metadata": {},
   "outputs": [],
   "source": [
    "from datetime import datetime, timedelta\n",
    "import requests\n",
    "import pandas as pd\n",
    "\n",
    "api_key = \"ee898070535344839cf70603250907\"\n",
    "rainfall_data = []\n",
    "\n",
    "today = datetime.today()\n",
    "start_date = today - timedelta(days=10)\n",
    "\n",
    "for loc in locations:\n",
    "    # Past 10 Days (history)\n",
    "    for i in range(10):\n",
    "        date_str = (start_date + timedelta(days=i)).strftime(\"%Y-%m-%d\")\n",
    "        url = f\"https://api.weatherapi.com/v1/history.json?key={api_key}&q={loc}&dt={date_str}\"\n",
    "        r = requests.get(url)\n",
    "        info = r.json()\n",
    "        precip = info['forecast']['forecastday'][0]['day']['totalprecip_mm']\n",
    "        \n",
    "        rainfall_data.append({\"location\": loc, \"date\": date_str, \"rainfall_mm\": precip})\n",
    "\n",
    "    # Next 10 Days (forecast)\n",
    "    forecast_url = f\"https://api.weatherapi.com/v1/forecast.json?key={api_key}&q={loc}&days=10\"\n",
    "    resp = requests.get(forecast_url)\n",
    "    forecast_info = resp.json()\n",
    "\n",
    "    for day in forecast_info['forecast']['forecastday']:\n",
    "        rainfall_data.append({\n",
    "            \"location\": loc,\n",
    "            \"date\": day['date'],\n",
    "            \"rainfall_mm\": day['day']['totalprecip_mm']\n",
    "        })"
   ]
  },
  {
   "cell_type": "code",
   "execution_count": 25,
   "id": "a1a75421-4fe6-40b6-a0c2-1fc7877e0d1c",
   "metadata": {},
   "outputs": [],
   "source": [
    "df = pd.DataFrame(rainfall_data)\n",
    "df.to_csv(\"tn_4city_20day_rainfall.csv\", index=False)"
   ]
  },
  {
   "cell_type": "code",
   "execution_count": 27,
   "id": "c58d6e9f-6c9c-4949-a7c5-c7e14a4ac023",
   "metadata": {},
   "outputs": [],
   "source": [
    "df.to_csv(\"C:/Users/Shariqa/Documents/Rainfall Project/tn_4city_20day_rainfall.csv\", index=False)"
   ]
  },
  {
   "cell_type": "code",
   "execution_count": null,
   "id": "6632e81b-190a-4cb1-997c-e6b32ec2adbd",
   "metadata": {},
   "outputs": [],
   "source": []
  }
 ],
 "metadata": {
  "kernelspec": {
   "display_name": "Python 3 (ipykernel)",
   "language": "python",
   "name": "python3"
  },
  "language_info": {
   "codemirror_mode": {
    "name": "ipython",
    "version": 3
   },
   "file_extension": ".py",
   "mimetype": "text/x-python",
   "name": "python",
   "nbconvert_exporter": "python",
   "pygments_lexer": "ipython3",
   "version": "3.12.4"
  }
 },
 "nbformat": 4,
 "nbformat_minor": 5
}
